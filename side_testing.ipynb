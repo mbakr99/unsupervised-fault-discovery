{
 "cells": [
  {
   "cell_type": "code",
   "execution_count": 4,
   "metadata": {
    "collapsed": true,
    "ExecuteTime": {
     "end_time": "2023-12-21T05:00:16.439008182Z",
     "start_time": "2023-12-21T05:00:12.491483094Z"
    }
   },
   "outputs": [
    {
     "name": "stderr",
     "output_type": "stream",
     "text": [
      "2023-12-20 21:00:12.864550: I tensorflow/core/util/port.cc:110] oneDNN custom operations are on. You may see slightly different numerical results due to floating-point round-off errors from different computation orders. To turn them off, set the environment variable `TF_ENABLE_ONEDNN_OPTS=0`.\n",
      "2023-12-20 21:00:12.870269: I tensorflow/tsl/cuda/cudart_stub.cc:28] Could not find cuda drivers on your machine, GPU will not be used.\n",
      "2023-12-20 21:00:12.966633: I tensorflow/tsl/cuda/cudart_stub.cc:28] Could not find cuda drivers on your machine, GPU will not be used.\n",
      "2023-12-20 21:00:12.967536: I tensorflow/core/platform/cpu_feature_guard.cc:182] This TensorFlow binary is optimized to use available CPU instructions in performance-critical operations.\n",
      "To enable the following instructions: AVX2 AVX512F AVX512_VNNI FMA, in other operations, rebuild TensorFlow with the appropriate compiler flags.\n",
      "2023-12-20 21:00:14.143551: W tensorflow/compiler/tf2tensorrt/utils/py_utils.cc:38] TF-TRT Warning: Could not find TensorRT\n"
     ]
    }
   ],
   "source": [
    "import tensorflow as tf\n",
    "import tensorflow_probability as tfp\n",
    "from tensorflow import keras\n",
    "import numpy as np\n",
    "import pandas as pd\n",
    "import matplotlib.pyplot as plt\n",
    "import IFCC.data.datapipes as dp\n",
    "import IFCC.data.tepmanip as tepmanip\n",
    "import pyreadr as pyr\n",
    "import importlib\n",
    "import IFD.units.variational.SS_RNN as SS_RNN\n",
    "import IFD.support.training as train\n",
    "from typing import Iterable\n",
    "import IFD.losses.variational.LossesAndMetrics as loss\n",
    "import IFCC.models.encoders as enc\n",
    "import matplotlib.gridspec as gridspec\n",
    "import pdb\n",
    "import IFD.detection.varfd as fd\n",
    "from ipywidgets import interact\n",
    "import ipywidgets as widgets\n"
   ]
  },
  {
   "cell_type": "code",
   "execution_count": 5,
   "outputs": [],
   "source": [
    "class test_cell(keras.layers.Layer):\n",
    "\n",
    "    def __init__(self,num_states,output_dim,layers):\n",
    "        super().__init__()\n",
    "        self.num_states=num_states\n",
    "        self.output_dim=output_dim\n",
    "        self.t_layers=layers\n",
    "        self.__weight_init=keras.initializers.RandomNormal()\n",
    "\n",
    "        self.A=tf.Variable(initial_value=self.__weight_init(shape=(num_states,num_states),dtype=tf.float32),name='A',trainable=True)\n",
    "        self.B=None\n",
    "        self.C=tf.Variable(initial_value=self.__weight_init(shape=(num_states,output_dim),dtype=tf.float32),name='A',trainable=True)\n",
    "\n",
    "    def get_mdl(self):\n",
    "\n",
    "        return keras.Sequential([keras.layers.Input(shape=[self.num_states,]),\n",
    "            *self.t_layers,\n",
    "            keras.layers.Dense(self.num_states)\n",
    "        ])\n",
    "\n",
    "    def build(self, input_shape):\n",
    "        in_shape=input_shape[0]\n",
    "        state_shape=input_shape[-1]\n",
    "        #pdb.set_trace()\n",
    "        self.B=tf.Variable(initial_value=self.__weight_init(shape=[in_shape[-1],self.num_states],dtype=tf.float32),name='B',trainable=True)\n",
    "\n",
    "        self.mdl_s=self.get_mdl()\n",
    "\n",
    "\n",
    "\n",
    "    def call(self,inputs):\n",
    "        u=inputs[0]\n",
    "        h=inputs[-1]\n",
    "\n",
    "        h_t=tf.linalg.matmul(h,self.A)+tf.linalg.matmul(u,self.B)\n",
    "        #pdb.set_trace()\n",
    "        temp=self.mdl_s(h_t)\n",
    "        #add losses to regularize the network\n",
    "        #self.add_loss(tf.linalg.norm(self.A))\n",
    "\n",
    "        return tf.linalg.matmul(temp,self.C),temp\n",
    "\n",
    "class test_layer(keras.layers.Layer):\n",
    "\n",
    "    def __init__(self,cell):\n",
    "        super().__init__()\n",
    "        self.cell=cell\n",
    "        self.num_states=cell.num_states\n",
    "        self.output_dim=cell.output_dim\n",
    "\n",
    "\n",
    "    def get_init_state(self,batch_size,dtype):\n",
    "        return tf.random.normal(shape=[batch_size,self.cell.num_states],dtype=dtype)\n",
    "\n",
    "    def build(self,input_shape):\n",
    "        input_shape=(input_shape[-1],)\n",
    "        state_shape=(self.num_states,)\n",
    "        self.cell.build([input_shape,state_shape])\n",
    "    def call(self,x):\n",
    "        #pdb.set_trace()\n",
    "        x=tf.transpose(x,perm=[1,0,2]) #[time,batch,features]\n",
    "        num_time_steps=tf.shape(x)[0]\n",
    "        batch_size=tf.shape(x)[1]\n",
    "\n",
    "        state=self.get_init_state(batch_size=batch_size,dtype=x.dtype)\n",
    "        output_tensor=tf.TensorArray(size=num_time_steps,dtype=x.dtype)\n",
    "\n",
    "        self.add_loss(tf.linalg.norm(self.cell.A,ord=1))\n",
    "        self.add_loss(tf.linalg.norm(self.cell.B,ord=1))\n",
    "        self.add_loss(tf.linalg.norm(self.cell.C,ord=1))\n",
    "\n",
    "        for i in tf.range(num_time_steps):\n",
    "            out,state=self.cell([x[i],state])\n",
    "\n",
    "            output_tensor=output_tensor.write(i,out)\n",
    "\n",
    "        return output_tensor.stack()\n",
    "\n",
    "\n",
    "\n",
    "\n",
    "\n"
   ],
   "metadata": {
    "collapsed": false,
    "ExecuteTime": {
     "end_time": "2023-12-20T22:53:48.051182085Z",
     "start_time": "2023-12-20T22:53:47.986670754Z"
    }
   }
  },
  {
   "cell_type": "code",
   "execution_count": 6,
   "outputs": [],
   "source": [
    "n=52\n",
    "output_shape=10\n",
    "inpt_shape=30\n",
    "\n",
    "dummy_input=tf.random.normal(shape=[64,inpt_shape],dtype='float32')\n",
    "dummy_state=tf.random.normal(shape=[64,n],dtype='float32')\n",
    "\n",
    "layers=[keras.layers.Dense(n*2,name='dense_in_mdls')] #,kernel_regularizer=keras.regularizers.L2(0.1)\n",
    "\n",
    "ts_cell=test_cell(num_states=n,output_dim=output_shape,layers=layers)\n",
    "ts_layer=test_layer(cell=ts_cell)\n",
    "\n",
    "dummy_timeseries=tf.random.normal(shape=[10,10,52])\n",
    "\n",
    "Y=ts_layer(dummy_timeseries)"
   ],
   "metadata": {
    "collapsed": false,
    "ExecuteTime": {
     "end_time": "2023-12-20T22:53:48.789797693Z",
     "start_time": "2023-12-20T22:53:48.522996436Z"
    }
   }
  },
  {
   "cell_type": "code",
   "execution_count": 8,
   "outputs": [
    {
     "data": {
      "text/plain": "<tf.Tensor: shape=(), dtype=float32, numpy=118.99814>"
     },
     "execution_count": 8,
     "metadata": {},
     "output_type": "execute_result"
    }
   ],
   "source": [
    "ts_layer.losses[0]+10"
   ],
   "metadata": {
    "collapsed": false,
    "ExecuteTime": {
     "end_time": "2023-12-20T22:53:55.872952262Z",
     "start_time": "2023-12-20T22:53:55.823778457Z"
    }
   }
  },
  {
   "cell_type": "code",
   "execution_count": 6,
   "outputs": [
    {
     "name": "stdout",
     "output_type": "stream",
     "text": [
      "tf.Tensor(1.0, shape=(), dtype=float32)\n"
     ]
    }
   ],
   "source": [
    "a=tf.ones(shape=(64,10,52))\n",
    "b=tf.zeros(shape=(2,64,10,52))\n",
    "m=keras.metrics.MeanAbsoluteError()\n",
    "m.update_state(a,b)\n",
    "print(m.result())"
   ],
   "metadata": {
    "collapsed": false,
    "ExecuteTime": {
     "end_time": "2023-12-21T05:00:30.753144277Z",
     "start_time": "2023-12-21T05:00:30.701542811Z"
    }
   }
  },
  {
   "cell_type": "code",
   "execution_count": null,
   "outputs": [],
   "source": [
    "print(1)"
   ],
   "metadata": {
    "collapsed": false
   }
  },
  {
   "cell_type": "code",
   "execution_count": null,
   "outputs": [],
   "source": [],
   "metadata": {
    "collapsed": false
   }
  }
 ],
 "metadata": {
  "kernelspec": {
   "display_name": "Python 3",
   "language": "python",
   "name": "python3"
  },
  "language_info": {
   "codemirror_mode": {
    "name": "ipython",
    "version": 2
   },
   "file_extension": ".py",
   "mimetype": "text/x-python",
   "name": "python",
   "nbconvert_exporter": "python",
   "pygments_lexer": "ipython2",
   "version": "2.7.6"
  }
 },
 "nbformat": 4,
 "nbformat_minor": 0
}
